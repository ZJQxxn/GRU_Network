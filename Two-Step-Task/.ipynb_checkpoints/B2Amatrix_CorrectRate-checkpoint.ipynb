{
 "cells": [
  {
   "cell_type": "code",
   "execution_count": 1,
   "metadata": {},
   "outputs": [],
   "source": [
    "%matplotlib inline\n",
    "%config IPCompleter.greedy=True\n",
    "import matplotlib.pyplot as plt\n",
    "import pandas as pd\n",
    "import numpy as np\n",
    "import sys\n",
    "import seaborn as sns\n",
    "import scipy.io as sio\n",
    "import json\n",
    "import h5py"
   ]
  },
  {
   "cell_type": "code",
   "execution_count": 2,
   "metadata": {},
   "outputs": [],
   "source": [
    "with open('matrix_mapping.json') as json_file:\n",
    "    matrix_mapping = json.load(json_file)"
   ]
  },
  {
   "cell_type": "code",
   "execution_count": 3,
   "metadata": {},
   "outputs": [
    {
     "name": "stdout",
     "output_type": "stream",
     "text": [
      "Keys: KeysView(<HDF5 file \"20190702_0553-smp_ts.hdf5\" (mode r)>)\n"
     ]
    }
   ],
   "source": [
    "filename = '20190702_0553-smp_ts.hdf5'\n",
    "# filename = 'SeqCode/log_m/ST/20190702_0537-smp_ts.hdf5'\n",
    "# filename = 'SeqCode/log_m/ST/20190702_0200-smp_ts.hdf5'\n",
    "\n",
    "data = {}\n",
    "with h5py.File(filename, 'r') as f:\n",
    "    # List all groups\n",
    "    print(\"Keys: %s\" % f.keys())\n",
    "    for k in list(f.keys()):\n",
    "        # Get the data\n",
    "        data[k]= list(f[k])"
   ]
  },
  {
   "cell_type": "code",
   "execution_count": 4,
   "metadata": {},
   "outputs": [],
   "source": [
    "# only select matrix with 13 time points\n",
    "good_index = np.array([list(range(*i[0])) for i in data['index'] if i[0][1] - i[0][0] == 13 and \n",
    "                      any(np.array_equal(np.array(data['behavior'][i[0][0]:i[0][1]]), v) for v in matrix_mapping.values())])  #4928 trials\n",
    "\n",
    "# reshape to (4928, 13, 10), 4928 is trial numbers, 13 is time stamps, 10 is # of variables\n",
    "all_trials_raw = np.array(data['behavior'])[good_index.ravel(),:].reshape(-1, 13, 10)\n",
    "\n",
    "# pinpoint start points of each session. (session: contiguous matrices selected from raw data)\n",
    "starts = [idx + 1 for idx, item in enumerate(np.diff(good_index[:, 0])) if item != 13]\n",
    "\n",
    "# re-construct matrices\n",
    "all_trials = [] # smaller than all_trials_raw, different is the len(starts)\n",
    "for t in range(1, all_trials_raw.shape[0]):\n",
    "    if t not in starts:\n",
    "        all_trials.append(np.concatenate((all_trials_raw[t, :7, :], all_trials_raw[t - 1, 7:, :]), 0))\n",
    "all_trials = np.array(all_trials)"
   ]
  },
  {
   "cell_type": "code",
   "execution_count": 5,
   "metadata": {},
   "outputs": [],
   "source": [
    "# categories each matrix and pick good matrix indexes\n",
    "all_cnts, categories = [], []\n",
    "for cnt in range(all_trials.shape[0]):\n",
    "    v = [i for i in matrix_mapping.keys() if np.sum(all_trials[cnt, :] == matrix_mapping[i]) == 130]\n",
    "    if v != []:\n",
    "        all_cnts.append(cnt)\n",
    "        categories.append(v[0])\n",
    "categories = np.array(categories) # smaller than all_trials, different is the len(empty v)"
   ]
  },
  {
   "cell_type": "code",
   "execution_count": 6,
   "metadata": {},
   "outputs": [],
   "source": [
    "block_size = 50\n",
    "which_prob_big = np.tile(np.repeat([1, 0], block_size), 5000//(2 * block_size) + 1)[:5000]\n",
    "repeat_cnt = np.array(data['index']).squeeze()[:,1] - np.array(data['index']).squeeze()[:,0]\n",
    "switch = []\n",
    "for i in range(5000):\n",
    "    switch.extend([which_prob_big[i]] * repeat_cnt[i])\n",
    "big_prob_raw = np.array(switch)[good_index]\n",
    "connected_index = [idx for idx in range(1, np.array(switch)[good_index].shape[0]) if idx not in starts]\n",
    "big_prob = big_prob_raw[connected_index][all_cnts,:][:,0]"
   ]
  },
  {
   "cell_type": "code",
   "execution_count": 7,
   "metadata": {},
   "outputs": [],
   "source": [
    "# # remove bad matrices: matrices has some bad values\n",
    "# all_trials = all_trials[all_cnts]\n",
    "\n",
    "# # remove indexes of bad matrices and output categories of corresponding matrix\n",
    "# all_neurons_raw = np.array(data['neuron'])[good_index, :].squeeze()\n",
    "\n",
    "# # re-construct neurons\n",
    "# all_neurons = []\n",
    "# for t in range(1, all_neurons_raw.shape[0]):\n",
    "#     if t not in starts:\n",
    "#         all_neurons.append(np.concatenate((all_neurons_raw[t - 1, 7:, :], all_neurons_raw[t, :7, :]), 0))\n",
    "\n",
    "# all_neurons = np.array(all_neurons)\n",
    "# good_all_neurons = all_neurons[all_cnts, :]\n",
    "# Rec_resp = np.swapaxes(good_all_neurons, 1, 2)"
   ]
  },
  {
   "cell_type": "code",
   "execution_count": 10,
   "metadata": {},
   "outputs": [
    {
     "name": "stdout",
     "output_type": "stream",
     "text": [
      "50\n",
      "100\n"
     ]
    },
    {
     "name": "stderr",
     "output_type": "stream",
     "text": [
      "D:\\Miniconda3\\lib\\site-packages\\ipykernel_launcher.py:7: DeprecationWarning: \n",
      ".ix is deprecated. Please use\n",
      ".loc for label based indexing or\n",
      ".iloc for positional indexing\n",
      "\n",
      "See the documentation here:\n",
      "http://pandas.pydata.org/pandas-docs/stable/indexing.html#ix-indexer-is-deprecated\n",
      "  import sys\n"
     ]
    }
   ],
   "source": [
    "#%%\n",
    "a, b, r = pd.Series(categories).str[:2].values, pd.Series(categories).str[2:4].values, pd.Series(categories).str[4:].values\n",
    "start_end = [0] + list((pd.Series(big_prob) - pd.Series(big_prob).shift(-1)).where(lambda x: x != 0).dropna().index + 1) + [len(categories)]\n",
    "choice_matrix = pd.DataFrame([a[start_end[i]:start_end[i + 1]] for i in range(len(start_end) - 1)])\n",
    "# big_prob_matrix = pd.DataFrame([big_prob[start_end[i]:start_end[i + 1]] for i in range(len(start_end) - 1)])\n",
    "\n",
    "match_matrix = [(choice_matrix.ix[:,i] == np.tile(['A1','A2'], block_size)[:choice_matrix.shape[0]]).astype(int).values for i in range(choice_matrix.shape[1])]\n",
    "print(len(match_matrix))\n",
    "print(len(match_matrix[0]))"
   ]
  },
  {
   "cell_type": "code",
   "execution_count": 11,
   "metadata": {},
   "outputs": [],
   "source": [
    "sio.savemat('CorrectRate_'+filename.split('/')[-1].split('.')[0]+'.mat', \n",
    "            {'cr_matrix':np.array(pd.DataFrame(match_matrix).T)})"
   ]
  },
  {
   "cell_type": "code",
   "execution_count": 12,
   "metadata": {},
   "outputs": [
    {
     "ename": "NameError",
     "evalue": "name 'Rec_resp' is not defined",
     "output_type": "error",
     "traceback": [
      "\u001b[1;31m---------------------------------------------------------------------------\u001b[0m",
      "\u001b[1;31mNameError\u001b[0m                                 Traceback (most recent call last)",
      "\u001b[1;32m<ipython-input-12-795578836a95>\u001b[0m in \u001b[0;36m<module>\u001b[1;34m\u001b[0m\n\u001b[0;32m      1\u001b[0m \u001b[1;32mimport\u001b[0m \u001b[0mscipy\u001b[0m\u001b[1;33m.\u001b[0m\u001b[0mio\u001b[0m \u001b[1;32mas\u001b[0m \u001b[0msio\u001b[0m\u001b[1;33m\u001b[0m\u001b[1;33m\u001b[0m\u001b[0m\n\u001b[0;32m      2\u001b[0m sio.savemat('/Users/qianliyang/OneDriveNew/OneDrive/TianmingYang/GRU and sequence learning/dPCA-master/matlab/B2A_'+filename.split('/')[-1].split('.')[0]+'.mat', \n\u001b[1;32m----> 3\u001b[1;33m             {'Rec_resp':Rec_resp, 'type': categories, 'big_prob':big_prob.tolist(), 'a':a, 'b':b, 'r': r})\n\u001b[0m",
      "\u001b[1;31mNameError\u001b[0m: name 'Rec_resp' is not defined"
     ]
    }
   ],
   "source": [
    "import scipy.io as sio\n",
    "sio.savemat('/Users/qianliyang/OneDriveNew/OneDrive/TianmingYang/GRU and sequence learning/dPCA-master/matlab/B2A_'+filename.split('/')[-1].split('.')[0]+'.mat', \n",
    "            {'Rec_resp':Rec_resp, 'type': categories, 'big_prob':big_prob.tolist(), 'a':a, 'b':b, 'r': r})"
   ]
  },
  {
   "cell_type": "code",
   "execution_count": 13,
   "metadata": {},
   "outputs": [],
   "source": [
    "# cmap = sns.cm.rocket_r\n",
    "# for i in range(8):\n",
    "#     plt.subplots()\n",
    "#     this_category = good_all_neurons[categories == i,:,:].mean(0)\n",
    "#     ax = sns.heatmap(this_category, linewidths = 0.4, linecolor = 'red', cmap=cmap)\n",
    "#     fig = plt.gcf()\n",
    "#     fig.set_size_inches(20, 3)\n",
    "#     plt.title('category:' + str(i))\n",
    "\n",
    "# all_average_matrix = []\n",
    "# for i in range(8):\n",
    "#     this_category = good_all_neurons[categories == i,:,:].mean(0)\n",
    "#     all_average_matrix.append(this_category)\n",
    "# #     plt.legend([str(i)])\n",
    "\n",
    "# sns.heatmap(np.array(all_average_matrix).std(0)/np.array(all_average_matrix).mean(0), linewidths = 0.4, linecolor = 'red', cmap=cmap)\n",
    "# fig = plt.gcf()\n",
    "# fig.set_size_inches(20, 2)"
   ]
  },
  {
   "cell_type": "code",
   "execution_count": 14,
   "metadata": {},
   "outputs": [
    {
     "data": {
      "text/plain": [
       "<matplotlib.axes._subplots.AxesSubplot at 0x1cb95ec4a20>"
      ]
     },
     "execution_count": 14,
     "metadata": {},
     "output_type": "execute_result"
    },
    {
     "data": {
      "image/png": "[encoded data removed]",
      "text/plain": [
       "<Figure size 432x288 with 2 Axes>"
      ]
     },
     "metadata": {
      "needs_background": "light"
     },
     "output_type": "display_data"
    }
   ],
   "source": [
    "sns.heatmap(all_trials[0,:], linewidths = 2, linecolor = 'red')"
   ]
  },
  {
   "cell_type": "code",
   "execution_count": 12,
   "metadata": {
    "collapsed": true
   },
   "outputs": [],
   "source": [
    "# trialNum: N x S x D\n",
    "# firingRates: N x S x D x T x maxTrialNum\n",
    "# firingRatesAverage: N x S x D x T\n",
    "firingRates = np.zeros(shape=(4, 2, pd.value_counts(categories).max(), 128, 13))\n",
    "firingRates[:] = np.nan\n",
    "trialNum_each = np.zeros(shape=(4,2))\n",
    "trialNum_each[:] = np.nan\n",
    "\n",
    "arrange_list = ['A1B1R', 'A1B1NR', 'A1B2R', 'A1B2NR', 'A2B1R', 'A2B1NR', 'A2B2R', 'A2B2NR']\n",
    "i = 0\n",
    "for col in range(2):\n",
    "    for row in range(4):\n",
    "        firingRates[row, col, :sum(categories == arrange_list[i]),:] = Rec_resp[categories == arrange_list[i], :]\n",
    "        trialNum_each[row, col] = sum(categories == arrange_list[i])\n",
    "        i += 1\n",
    "\n",
    "# reshape matrix\n",
    "firingRates = np.transpose(firingRates, (3,0,1,4,2)) # (128, 4, 2, 13, 1454)\n",
    "\n",
    "# count numbers for each condition (4*2)\n",
    "trialNum = trialNum_each* np.ones((128, 1, 1))"
   ]
  },
  {
   "cell_type": "code",
   "execution_count": 13,
   "metadata": {
    "collapsed": true
   },
   "outputs": [],
   "source": [
    "sio.savemat('/Users/qianliyang/OneDriveNew/OneDrive/TianmingYang/GRU and sequence learning/dPCA-master/matlab/B2A_dPCA_'+filename.split('/')[-1].split('.')[0]+'.mat', \n",
    "            {'trialNum':trialNum, 'firingRates': firingRates})"
   ]
  },
  {
   "cell_type": "code",
   "execution_count": 14,
   "metadata": {
    "collapsed": true
   },
   "outputs": [],
   "source": [
    "##========columns: b, index:a=========\n",
    "sts = pd.Series(categories).str[:4].value_counts()\n",
    "firingRates = np.zeros(shape=(2, 2, sts.max(), 128, 13))\n",
    "firingRates[:] = np.nan\n",
    "trialNum_each = np.zeros(shape=(2,2))\n",
    "trialNum_each[:] = np.nan\n",
    "\n",
    "arrange_list = ['A1B1', 'A2B1', 'A1B2', 'A2B2']\n",
    "i = 0\n",
    "for col in range(2):\n",
    "    for row in range(2):\n",
    "        mask = [arrange_list[i] in c for c in categories]\n",
    "        firingRates[row, col, :sum(mask),:] = Rec_resp[mask, :]\n",
    "        trialNum_each[row, col] = sum(mask)\n",
    "        i += 1\n",
    "\n",
    "# reshape matrix\n",
    "firingRates = np.transpose(firingRates, (3,0,1,4,2)) # (128, 4, 2, 13, 1454)\n",
    "\n",
    "# count numbers for each condition (2*2)\n",
    "trialNum = trialNum_each* np.ones((128, 1, 1))"
   ]
  },
  {
   "cell_type": "code",
   "execution_count": 15,
   "metadata": {
    "collapsed": true
   },
   "outputs": [],
   "source": [
    "sio.savemat('/Users/qianliyang/OneDriveNew/OneDrive/TianmingYang/GRU and sequence learning/dPCA-master/matlab/B2A_dPCA_indexAcolB_'+filename.split('/')[-1].split('.')[0]+'.mat', \n",
    "            {'trialNum':trialNum, 'firingRates': firingRates})"
   ]
  },
  {
   "cell_type": "code",
   "execution_count": 16,
   "metadata": {
    "collapsed": true
   },
   "outputs": [],
   "source": [
    "##========columns: r, index:a=========\n",
    "sts = (pd.Series(categories).str[:2] + pd.Series(categories).str[4:]).value_counts()\n",
    "firingRates = np.zeros(shape=(2, 2, sts.max(), 128, 13))\n",
    "firingRates[:] = np.nan\n",
    "trialNum_each = np.zeros(shape=(2,2))\n",
    "trialNum_each[:] = np.nan\n",
    "\n",
    "arrange_list = ['A1R', 'A2R', 'A1NR', 'A2NR']\n",
    "i = 0\n",
    "for col in range(2):\n",
    "    for row in range(2):\n",
    "        mask = [arrange_list[i] in c[2:4] + c[:2] + c[4:] for c in categories]\n",
    "        firingRates[row, col, :sum(mask),:] = Rec_resp[mask, :]\n",
    "        trialNum_each[row, col] = sum(mask)\n",
    "        i += 1\n",
    "\n",
    "# reshape matrix\n",
    "firingRates = np.transpose(firingRates, (3,0,1,4,2)) # (128, 4, 2, 13, 1454)\n",
    "\n",
    "# count numbers for each condition (2*2)\n",
    "trialNum = trialNum_each* np.ones((128, 1, 1))"
   ]
  },
  {
   "cell_type": "code",
   "execution_count": 17,
   "metadata": {
    "collapsed": true
   },
   "outputs": [],
   "source": [
    "sio.savemat('/Users/qianliyang/OneDriveNew/OneDrive/TianmingYang/GRU and sequence learning/dPCA-master/matlab/B2A_dPCA_indexAcolR_'+filename.split('/')[-1].split('.')[0]+'.mat', \n",
    "            {'trialNum':trialNum, 'firingRates': firingRates})"
   ]
  },
  {
   "cell_type": "code",
   "execution_count": 18,
   "metadata": {
    "collapsed": true
   },
   "outputs": [],
   "source": [
    "##========columns: r, index:b=========\n",
    "sts = pd.Series(categories).str[2:].value_counts()\n",
    "firingRates = np.zeros(shape=(2, 2, sts.max(), 128, 13))\n",
    "firingRates[:] = np.nan\n",
    "trialNum_each = np.zeros(shape=(2,2))\n",
    "trialNum_each[:] = np.nan\n",
    "\n",
    "arrange_list = ['B1R', 'B2R', 'B1NR', 'B2NR']\n",
    "i = 0\n",
    "for col in range(2):\n",
    "    for row in range(2):\n",
    "        mask = [arrange_list[i] in c for c in categories]\n",
    "        firingRates[row, col, :sum(mask),:] = Rec_resp[mask, :]\n",
    "        trialNum_each[row, col] = sum(mask)\n",
    "        i += 1\n",
    "\n",
    "# reshape matrix\n",
    "firingRates = np.transpose(firingRates, (3,0,1,4,2)) # (128, 4, 2, 13, 1454)\n",
    "\n",
    "# count numbers for each condition (2*2)\n",
    "trialNum = trialNum_each* np.ones((128, 1, 1))"
   ]
  },
  {
   "cell_type": "code",
   "execution_count": 19,
   "metadata": {
    "collapsed": true
   },
   "outputs": [],
   "source": [
    "sio.savemat('/Users/qianliyang/OneDriveNew/OneDrive/TianmingYang/GRU and sequence learning/dPCA-master/matlab/B2A_dPCA_indexBcolR_'+filename.split('/')[-1].split('.')[0]+'.mat', \n",
    "            {'trialNum':trialNum, 'firingRates': firingRates})"
   ]
  },
  {
   "cell_type": "markdown",
   "metadata": {},
   "source": [
    "### use different network"
   ]
  },
  {
   "cell_type": "code",
   "execution_count": 40,
   "metadata": {
    "collapsed": true
   },
   "outputs": [],
   "source": [
    "# import h5py\n",
    "# f = h5py.File('/Users/qianliyang/OneDriveNew/OneDrive/TianmingYang/GRU and sequence learning/ReservoirNet_OFC_TaskState-master/task2/Resoire_Resp.mat', 'r')import scipy.io as sio\n",
    "import scipy.io as sio\n",
    "#matlab文件名 \n",
    "filename='/Users/qianliyang/OneDriveNew/OneDrive/TianmingYang/GRU and sequence learning/ReservoirNet_OFC_TaskState-master/task2/Resoire_Resp.mat'\n",
    "f=sio.loadmat(filename)"
   ]
  },
  {
   "cell_type": "code",
   "execution_count": 41,
   "metadata": {
    "collapsed": true
   },
   "outputs": [],
   "source": [
    "Rec_resp = f['Response1']\n",
    "categories = np.squeeze(f['type'])"
   ]
  },
  {
   "cell_type": "code",
   "execution_count": 53,
   "metadata": {
    "collapsed": true
   },
   "outputs": [],
   "source": [
    "cate_map = {1: 'A1B1RW',  2: 'A1B1NW',  3: 'A1B2RW', 4: 'A1B2NW', 5: 'A2B1RW', 6: 'A2B1NW', 7: 'A2B2RW', 8: 'A2B2NW'}\n",
    "a, b, r = pd.Series(categories).replace(cate_map).str[:2].values, pd.Series(categories).replace(cate_map).str[2:4].values, \\\n",
    "                    pd.Series(categories).replace(cate_map).str[4:].values"
   ]
  },
  {
   "cell_type": "code",
   "execution_count": 59,
   "metadata": {
    "collapsed": true
   },
   "outputs": [],
   "source": [
    "sio.savemat('/Users/qianliyang/OneDriveNew/OneDrive/TianmingYang/GRU and sequence learning/dPCA-master/matlab/honey_honey_'+filename.split('/')[-1].split('.')[0]+'.mat', \n",
    "            {'Rec_resp':Rec_resp, 'type': pd.Series(categories).replace(cate_map).values, 'a':a, 'b':b, 'r': r})"
   ]
  },
  {
   "cell_type": "code",
   "execution_count": 42,
   "metadata": {
    "collapsed": true
   },
   "outputs": [],
   "source": [
    "# % '1, A1B1RW',  '2, A1B1NW',  '3, A1B2RW','4, A1B2NW',\n",
    "# % '5, A2B1RW','6, A2B1NW', '7, A2B2RW','8, A2B2NW' \n",
    "# trialNum: N x S x D\n",
    "# firingRates: N x S x D x T x maxTrialNum\n",
    "# firingRatesAverage: N x S x D x T\n",
    "firingRates = np.zeros(shape=(4, 2, pd.value_counts(categories).max(), 500, 211))\n",
    "firingRates[:] = np.nan\n",
    "trialNum_each = np.zeros(shape=(4,2))\n",
    "trialNum_each[:] = np.nan\n",
    "firingRates[0,0,:sum(categories == 1),:] = Rec_resp[categories == 1,:] # 'B1A1R'\n",
    "trialNum_each[0,0] = sum(categories == 1)\n",
    "firingRates[1,0,:sum(categories == 2),:] = Rec_resp[categories == 2,:] # 'B1A1NR'\n",
    "trialNum_each[1,0] = sum(categories == 2)\n",
    "firingRates[2,0,:sum(categories == 3),:] = Rec_resp[categories == 3,:] # 'B2A1R'\n",
    "trialNum_each[2,0] = sum(categories == 3)\n",
    "firingRates[3,0,:sum(categories == 4),:] = Rec_resp[categories == 4,:] # 'B2A1NR'\n",
    "trialNum_each[3,0] = sum(categories == 4)\n",
    "firingRates[0,1,:sum(categories == 5),:] = Rec_resp[categories == 5,:] # 'B1A2R'\n",
    "trialNum_each[0,1] = sum(categories == 5)\n",
    "firingRates[1,1,:sum(categories == 6),:] = Rec_resp[categories == 6,:] # 'B1A2NR'\n",
    "trialNum_each[1,1] = sum(categories == 6)\n",
    "firingRates[2,1,:sum(categories == 7),:] = Rec_resp[categories == 7,:] # 'B2A2R'\n",
    "trialNum_each[2,1] = sum(categories == 7)\n",
    "firingRates[3,1,:sum(categories == 8),:] = Rec_resp[categories == 8,:] # 'B2A2NR'\n",
    "trialNum_each[3,1] = sum(categories == 8)\n",
    "\n",
    "# reshape matrix\n",
    "firingRates = np.transpose(firingRates, (3,0,1,4,2)) # (500, 4, 2, 2100, 90)\n",
    "\n",
    "# count numbers for each condition (4*2)\n",
    "trialNum = trialNum_each* np.ones((500, 1, 1))"
   ]
  },
  {
   "cell_type": "code",
   "execution_count": 43,
   "metadata": {
    "collapsed": true
   },
   "outputs": [],
   "source": [
    "sio.savemat('/Users/qianliyang/OneDriveNew/OneDrive/TianmingYang/GRU and sequence learning/dPCA-master/matlab/for_dPCA_' + filename.split('/')[-1].split('.')[0] + '.mat', \n",
    "            {'trialNum':trialNum, 'firingRates': firingRates})"
   ]
  },
  {
   "cell_type": "code",
   "execution_count": 44,
   "metadata": {
    "collapsed": true
   },
   "outputs": [],
   "source": [
    "##========columns: b, index:a=========\n",
    "firingRates = np.zeros(shape=(2, 2, 159, 500, 211))\n",
    "firingRates[:] = np.nan\n",
    "trialNum_each = np.zeros(shape=(2,2))\n",
    "trialNum_each[:] = np.nan\n",
    "\n",
    "firingRates[0,0,:sum(categories == 1) + sum(categories == 2),:] = Rec_resp[(categories == 1)| (categories == 2), :] # 'B1A1'\n",
    "trialNum_each[0,0] = sum(categories == 1) + sum(categories == 2) \n",
    "firingRates[0,1,:sum(categories == 3) + sum(categories == 4),:] = Rec_resp[(categories == 3)| (categories == 4), :] # 'B2A1'\n",
    "trialNum_each[0,1] = sum(categories == 3) + sum(categories == 4) \n",
    "\n",
    "firingRates[1,0,:sum(categories == 5) + sum(categories == 6),:] = Rec_resp[(categories == 6)| (categories == 5),:] # 'B1A2'\n",
    "trialNum_each[1,0] = sum(categories == 5) + sum(categories == 6) \n",
    "firingRates[1,1,:sum(categories == 7) + sum(categories == 8),:] = Rec_resp[(categories == 7)| (categories == 8),:] # 'B2A2'\n",
    "trialNum_each[1,1] = sum(categories == 7) + sum(categories == 8)\n",
    "\n",
    "# reshape matrix\n",
    "firingRates = np.transpose(firingRates, (3,0,1,4,2)) # (128, 4, 2, 13, 1454)\n",
    "\n",
    "# count numbers for each condition (2*2)\n",
    "trialNum = trialNum_each* np.ones((500, 1, 1))"
   ]
  },
  {
   "cell_type": "code",
   "execution_count": 45,
   "metadata": {
    "collapsed": true
   },
   "outputs": [],
   "source": [
    "sio.savemat('/Users/qianliyang/OneDriveNew/OneDrive/TianmingYang/GRU and sequence learning/dPCA-master/matlab/for_newdPCA_indexAcolB_' + filename.split('/')[-1].split('.')[0] + '.mat', \n",
    "    {'trialNum':trialNum, 'firingRates': firingRates})"
   ]
  },
  {
   "cell_type": "code",
   "execution_count": 46,
   "metadata": {
    "collapsed": true
   },
   "outputs": [],
   "source": [
    "##========columns: r, index:a=========\n",
    "firingRates = np.zeros(shape=(2, 2, 115, 500, 211))\n",
    "firingRates[:] = np.nan\n",
    "trialNum_each = np.zeros(shape=(2,2))\n",
    "trialNum_each[:] = np.nan\n",
    "\n",
    "firingRates[0,0,:sum(categories == 1) + sum(categories == 3),:] = Rec_resp[(categories == 1)| (categories == 3), :] # 'A1R'\n",
    "trialNum_each[0,0] = sum(categories == 1) + sum(categories == 3) \n",
    "firingRates[0,1,:sum(categories == 4) + sum(categories == 2),:] = Rec_resp[(categories == 4)| (categories == 2), :] # 'A1NR'\n",
    "trialNum_each[0,1] = sum(categories == 4) + sum(categories == 2) \n",
    "\n",
    "firingRates[1,0,:sum(categories == 7) + sum(categories == 5),:] = Rec_resp[(categories == 5)| (categories == 7),:] # 'A2R'\n",
    "trialNum_each[1,0] = sum(categories == 7) + sum(categories == 5) \n",
    "firingRates[1,1,:sum(categories == 8) + sum(categories == 6),:] = Rec_resp[(categories == 8)| (categories == 6),:] # 'A2NR' \n",
    "trialNum_each[1,1] = sum(categories == 8) + sum(categories == 6)\n",
    "\n",
    "# reshape matrix\n",
    "firingRates = np.transpose(firingRates, (3,0,1,4,2)) # (128, 4, 2, 13, 1454)\n",
    "\n",
    "# count numbers for each condition (2*2)\n",
    "trialNum = trialNum_each* np.ones((500, 1, 1))\n",
    "\n",
    "sio.savemat('/Users/qianliyang/OneDriveNew/OneDrive/TianmingYang/GRU and sequence learning/dPCA-master/matlab/for_newdPCA_indexAcolR_' + filename.split('/')[-1].split('.')[0] + '.mat', \n",
    "           {'trialNum':trialNum, 'firingRates': firingRates})"
   ]
  },
  {
   "cell_type": "code",
   "execution_count": 47,
   "metadata": {
    "collapsed": true
   },
   "outputs": [],
   "source": [
    "##========columns: r, index:b=========\n",
    "firingRates = np.zeros(shape=(2, 2, 105, 500, 211))\n",
    "firingRates[:] = np.nan\n",
    "trialNum_each = np.zeros(shape=(2,2))\n",
    "trialNum_each[:] = np.nan\n",
    "\n",
    "firingRates[0,0,:sum(categories == 1) + sum(categories == 5),:] = Rec_resp[(categories == 1)| (categories == 5), :] # 'B1R'\n",
    "trialNum_each[0,0] = sum(categories == 1) + sum(categories == 5) \n",
    "firingRates[0,1,:sum(categories == 2) + sum(categories == 6),:] = Rec_resp[(categories == 2)| (categories == 6), :] # 'B1NR'\n",
    "trialNum_each[0,1] = sum(categories == 2) + sum(categories == 6) \n",
    "\n",
    "firingRates[1,0,:sum(categories == 3) + sum(categories == 7),:] = Rec_resp[(categories == 3)| (categories == 7),:] # 'B2R'\n",
    "trialNum_each[1,0] = sum(categories == 3) + sum(categories == 7) \n",
    "firingRates[1,1,:sum(categories == 4) + sum(categories == 8),:] = Rec_resp[(categories == 4)| (categories == 8),:] # 'B2NR' \n",
    "trialNum_each[1,1] = sum(categories == 4) + sum(categories == 8)\n",
    "\n",
    "# reshape matrix\n",
    "firingRates = np.transpose(firingRates, (3,0,1,4,2)) # (128, 4, 2, 13, 1454)\n",
    "\n",
    "# count numbers for each condition (2*2)\n",
    "trialNum = trialNum_each* np.ones((500, 1, 1))\n",
    "\n",
    "sio.savemat('/Users/qianliyang/OneDriveNew/OneDrive/TianmingYang/GRU and sequence learning/dPCA-master/matlab/for_newdPCA_indexBcolR_' + filename.split('/')[-1].split('.')[0] + '.mat', \n",
    "           {'trialNum':trialNum, 'firingRates': firingRates})"
   ]
  }
 ],
 "metadata": {
  "kernelspec": {
   "display_name": "Python 3",
   "language": "python",
   "name": "python3"
  },
  "language_info": {
   "codemirror_mode": {
    "name": "ipython",
    "version": 3
   },
   "file_extension": ".py",
   "mimetype": "text/x-python",
   "name": "python",
   "nbconvert_exporter": "python",
   "pygments_lexer": "ipython3",
   "version": "3.6.9"
  }
 },
 "nbformat": 4,
 "nbformat_minor": 2
}
